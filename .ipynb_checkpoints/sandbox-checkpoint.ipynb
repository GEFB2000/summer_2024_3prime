{
 "cells": [
  {
   "cell_type": "code",
   "execution_count": 1,
   "id": "f07585ff",
   "metadata": {},
   "outputs": [],
   "source": [
    "import pandas as pd\n",
    "import cairosvg\n",
    "from PIL import Image\n",
    "import os"
   ]
  },
  {
   "cell_type": "code",
   "execution_count": 2,
   "id": "cb909c0f",
   "metadata": {},
   "outputs": [],
   "source": [
    "# Counting number of samples used in this analysis - dont forget to add in Ethan/Eric + CDK7 + CDK9 data"
   ]
  },
  {
   "cell_type": "code",
   "execution_count": 2,
   "id": "816b67f6",
   "metadata": {},
   "outputs": [
    {
     "name": "stdout",
     "output_type": "stream",
     "text": [
      "total grant samps: 10\n"
     ]
    },
    {
     "data": {
      "text/plain": [
       "27"
      ]
     },
     "execution_count": 2,
     "metadata": {},
     "output_type": "execute_result"
    }
   ],
   "source": [
    "celltypes = ['OCILY1', 'G401', 'HCT116', 'MEL624', 'HeLa', 'THP1', 'foreskin_fibroblast','A375', 'SUDHL4', 'lymphoblast', 'Jurkat_T_cell', 'ESC', 'LC2ad', 'Ramos', 'HEK239T-HEK239', 'BEAS2B', 'NUDUL1', 'K562', 'MCF7', 'Kasumi1', 'S2VP10', 'KBM7', 'CD34_erythroblast', 'HAP1', 'U936', 'CD4_T_cell', 'A549']\n",
    "grantcelltypes = ['HCT116','HEK239T-HEK239','K562','KBM7']\n",
    "grantcelltypes = ['HCT116']\n",
    "\n",
    "celltypedir = '/scratch/Users/geba9152/LIET-spring2024/celltypes/'\n",
    "\n",
    "count = 0\n",
    "\n",
    "for celltype in grantcelltypes: \n",
    "    \n",
    "    df = pd.read_csv(f'{celltypedir}{celltype}.txt', sep = '\\t', header = None)\n",
    "    numSRR = len(df)\n",
    "    \n",
    "    count += numSRR\n",
    "    \n",
    "count\n",
    "\n",
    "# print(f'total meta samps: {count}')\n",
    "print(f'total grant samps: {count}')\n",
    "\n",
    "len(celltypes)\n"
   ]
  },
  {
   "cell_type": "code",
   "execution_count": 3,
   "id": "e9dd45cd",
   "metadata": {},
   "outputs": [
    {
     "data": {
      "text/plain": [
       "10"
      ]
     },
     "execution_count": 3,
     "metadata": {},
     "output_type": "execute_result"
    }
   ],
   "source": [
    "celltypes = ['OCILY1', 'G401', 'HCT116', 'MEL624', 'HeLa', 'THP1', 'foreskin_fibroblast','A375', 'SUDHL4', 'lymphoblast', 'Jurkat_T_cell', 'ESC', 'LC2ad', 'Ramos', 'HEK239T-HEK239', 'BEAS2B', 'NUDUL1', 'K562', 'MCF7', 'Kasumi1', 'S2VP10', 'KBM7', 'CD34_erythroblast', 'HAP1', 'U936', 'CD4_T_cell', 'A549']\n",
    "grantcelltypes = ['HCT116', 'HEK239T-HEK239', 'K562', 'KBM7']\n",
    "grantcelltypes = ['HCT116']\n",
    "\n",
    "celltypedir = '/scratch/Users/geba9152/LIET-spring2024/celltypes/'\n",
    "\n",
    "srr_df = pd.DataFrame()\n",
    "\n",
    "for celltype in grantcelltypes: \n",
    "    df = pd.read_csv(f'{celltypedir}{celltype}.txt', sep='\\t', header=None)\n",
    "    srr_df = pd.concat([srr_df, df[0]], axis=0)\n",
    "\n",
    "srr_df.reset_index(drop=True, inplace=True)\n",
    "\n",
    "srr_df.columns = ['sample_name']  \n",
    "len(srr_df)"
   ]
  },
  {
   "cell_type": "code",
   "execution_count": 4,
   "id": "9df26f23",
   "metadata": {},
   "outputs": [
    {
     "data": {
      "text/plain": [
       "array(['Rao2017cohesin', 'Fant2020tfiid',\n",
       "       'Steinparzer2019transcriptional'], dtype=object)"
      ]
     },
     "execution_count": 4,
     "metadata": {},
     "output_type": "execute_result"
    }
   ],
   "source": [
    "q = pd.read_csv(\"/Users/geba9152/summer_2024_3prime/queries/all-human-PRO-GRO-query.txt\", sep = \"\\t\")\n",
    "merge = q.merge(srr_df, on = 'sample_name')\n",
    "\n",
    "## All papers for metas for grant: \n",
    "merge['paper_name'].unique()\n",
    "\n",
    "# ['Rao2017cohesin', 'Fant2020tfiid',\n",
    "#        'Steinparzer2019transcriptional', 'Woo2018ted',\n",
    "#        'Liang2018targeting', 'Takahashi2020role',\n",
    "#        'Blumberg2021characterizing', 'Wang2019identification',\n",
    "#        'Vihervaara2017transcriptional', 'Judd2020unpublished',\n",
    "#        'Core2014analysis', 'Dukler2017nascent', 'Vihervaara2021stress',\n",
    "#        'Jaeger2020selective']\n",
    "\n"
   ]
  },
  {
   "cell_type": "markdown",
   "id": "870efc07",
   "metadata": {},
   "source": [
    "## Total as of now"
   ]
  },
  {
   "cell_type": "code",
   "execution_count": 10,
   "id": "8c7b7918",
   "metadata": {},
   "outputs": [
    {
     "name": "stdout",
     "output_type": "stream",
     "text": [
      "total samps so far: 153\n"
     ]
    }
   ],
   "source": [
    "# Ethan/Eric: 8 samps\n",
    "# CDK7i HCT: 4 samps\n",
    "# CDK7i/IFN/KMB: 11 samps\n",
    "# all good metas: 130 samps\n",
    "\n",
    "total = 130 + 8 + 4 + 11\n",
    "print(f'total samps so far: {total}')\n"
   ]
  },
  {
   "cell_type": "markdown",
   "id": "9c0642ef",
   "metadata": {},
   "source": [
    "## What we show in R21"
   ]
  },
  {
   "cell_type": "code",
   "execution_count": 14,
   "id": "71f46c2c",
   "metadata": {},
   "outputs": [
    {
     "name": "stdout",
     "output_type": "stream",
     "text": [
      "grant samps: 37\n"
     ]
    }
   ],
   "source": [
    "# metas: 33 samps\n",
    "# eric: 4 samps\n",
    "\n",
    "total = 33 + 4 \n",
    "print(f'grant samps: {total}')"
   ]
  },
  {
   "cell_type": "markdown",
   "id": "d832631c",
   "metadata": {},
   "source": [
    "# Convert svg to pdf/jpeg"
   ]
  },
  {
   "cell_type": "code",
   "execution_count": null,
   "id": "4b3aba3a",
   "metadata": {},
   "outputs": [],
   "source": [
    "def svg_to_pdf(input_svg_path, output_pdf_path):\n",
    "    # Convert the SVG file to a PDF file\n",
    "    cairosvg.svg2pdf(url=input_svg_path, write_to=output_pdf_path)\n",
    "\n",
    "def svg_to_jpeg(input_svg_path, output_jpeg_path):\n",
    "    # Convert the SVG file to a temporary PNG file\n",
    "    temp_png_path = 'temp.png'\n",
    "    cairosvg.svg2png(url=input_svg_path, write_to=temp_png_path)\n",
    "    \n",
    "    # Convert PNG to JPEG\n",
    "    png_image = Image.open(temp_png_path)\n",
    "    png_image = png_image.convert(\"RGB\")\n",
    "    png_image.save(output_jpeg_path, \"JPEG\")\n",
    "    os.remove(temp_png_path)  # Remove the temporary PNG file\n",
    "\n",
    "def convert_svgs(input_dir, pdf_output_dir, jpeg_output_dir):\n",
    "    # Create output directories if they don't exist\n",
    "    os.makedirs(pdf_output_dir, exist_ok=True)\n",
    "    os.makedirs(jpeg_output_dir, exist_ok=True)\n",
    "    \n",
    "    # Loop through all files in the input directory\n",
    "    for filename in os.listdir(input_dir):\n",
    "        if filename.endswith('.svg'):\n",
    "            input_svg_path = os.path.join(input_dir, filename)\n",
    "            base_name = os.path.splitext(filename)[0]\n",
    "            \n",
    "            # Define output paths for PDF and JPEG\n",
    "            output_pdf_path = os.path.join(pdf_output_dir, base_name + '.pdf')\n",
    "            output_jpeg_path = os.path.join(jpeg_output_dir, base_name + '.jpeg')\n",
    "            \n",
    "            # Convert and save files\n",
    "            svg_to_pdf(input_svg_path, output_pdf_path)\n",
    "            svg_to_jpeg(input_svg_path, output_jpeg_path)\n",
    "            print(f\"Converted {filename} to PDF and JPEG.\")\n",
    "\n",
    "input_dir = '/scratch/Users/geba9152/LIET-summer2024/visuals/term-distribution-plots/meta-dmso/4-celltypes-20kbup/svg'\n",
    "pdf_output_dir = '/scratch/Users/geba9152/LIET-summer2024/visuals/term-distribution-plots/meta-dmso/4-celltypes-20kbup/pdf'\n",
    "jpeg_output_dir = '/scratch/Users/geba9152/LIET-summer2024/visuals/term-distribution-plots/meta-dmso/4-celltypes-20kbup/jpeg'\n",
    "convert_svgs(input_dir, pdf_output_dir, jpeg_output_dir)\n"
   ]
  }
 ],
 "metadata": {
  "kernelspec": {
   "display_name": "jupnbk-general",
   "language": "python",
   "name": "jupnbk-general"
  },
  "language_info": {
   "codemirror_mode": {
    "name": "ipython",
    "version": 3
   },
   "file_extension": ".py",
   "mimetype": "text/x-python",
   "name": "python",
   "nbconvert_exporter": "python",
   "pygments_lexer": "ipython3",
   "version": "3.11.5"
  },
  "toc": {
   "base_numbering": 1,
   "nav_menu": {},
   "number_sections": true,
   "sideBar": true,
   "skip_h1_title": false,
   "title_cell": "Table of Contents",
   "title_sidebar": "Contents",
   "toc_cell": false,
   "toc_position": {},
   "toc_section_display": true,
   "toc_window_display": false
  }
 },
 "nbformat": 4,
 "nbformat_minor": 5
}
