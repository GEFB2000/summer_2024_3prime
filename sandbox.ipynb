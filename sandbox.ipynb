{
 "cells": [
  {
   "cell_type": "code",
   "execution_count": 1,
   "id": "f07585ff",
   "metadata": {},
   "outputs": [],
   "source": [
    "import pandas as pd\n",
    "import cairosvg\n",
    "from PIL import Image\n",
    "import os"
   ]
  },
  {
   "cell_type": "code",
   "execution_count": 2,
   "id": "cb909c0f",
   "metadata": {},
   "outputs": [],
   "source": [
    "# Counting number of samples used in this analysis - dont forget to add in Ethan/Eric + CDK7 + CDK9 data"
   ]
  },
  {
   "cell_type": "code",
   "execution_count": 2,
   "id": "816b67f6",
   "metadata": {},
   "outputs": [
    {
     "name": "stdout",
     "output_type": "stream",
     "text": [
      "total grant samps: 10\n"
     ]
    },
    {
     "data": {
      "text/plain": [
       "27"
      ]
     },
     "execution_count": 2,
     "metadata": {},
     "output_type": "execute_result"
    }
   ],
   "source": [
    "celltypes = ['OCILY1', 'G401', 'HCT116', 'MEL624', 'HeLa', 'THP1', 'foreskin_fibroblast','A375', 'SUDHL4', 'lymphoblast', 'Jurkat_T_cell', 'ESC', 'LC2ad', 'Ramos', 'HEK239T-HEK239', 'BEAS2B', 'NUDUL1', 'K562', 'MCF7', 'Kasumi1', 'S2VP10', 'KBM7', 'CD34_erythroblast', 'HAP1', 'U936', 'CD4_T_cell', 'A549']\n",
    "grantcelltypes = ['HCT116','HEK239T-HEK239','K562','KBM7']\n",
    "grantcelltypes = ['HCT116']\n",
    "\n",
    "celltypedir = '/scratch/Users/geba9152/LIET-spring2024/celltypes/'\n",
    "\n",
    "count = 0\n",
    "\n",
    "for celltype in grantcelltypes: \n",
    "    \n",
    "    df = pd.read_csv(f'{celltypedir}{celltype}.txt', sep = '\\t', header = None)\n",
    "    numSRR = len(df)\n",
    "    \n",
    "    count += numSRR\n",
    "    \n",
    "count\n",
    "\n",
    "# print(f'total meta samps: {count}')\n",
    "print(f'total grant samps: {count}')\n",
    "\n",
    "len(celltypes)\n"
   ]
  },
  {
   "cell_type": "code",
   "execution_count": 3,
   "id": "e9dd45cd",
   "metadata": {},
   "outputs": [
    {
     "data": {
      "text/plain": [
       "10"
      ]
     },
     "execution_count": 3,
     "metadata": {},
     "output_type": "execute_result"
    }
   ],
   "source": [
    "celltypes = ['OCILY1', 'G401', 'HCT116', 'MEL624', 'HeLa', 'THP1', 'foreskin_fibroblast','A375', 'SUDHL4', 'lymphoblast', 'Jurkat_T_cell', 'ESC', 'LC2ad', 'Ramos', 'HEK239T-HEK239', 'BEAS2B', 'NUDUL1', 'K562', 'MCF7', 'Kasumi1', 'S2VP10', 'KBM7', 'CD34_erythroblast', 'HAP1', 'U936', 'CD4_T_cell', 'A549']\n",
    "grantcelltypes = ['HCT116', 'HEK239T-HEK239', 'K562', 'KBM7']\n",
    "grantcelltypes = ['HCT116']\n",
    "\n",
    "celltypedir = '/scratch/Users/geba9152/LIET-spring2024/celltypes/'\n",
    "\n",
    "srr_df = pd.DataFrame()\n",
    "\n",
    "for celltype in grantcelltypes: \n",
    "    df = pd.read_csv(f'{celltypedir}{celltype}.txt', sep='\\t', header=None)\n",
    "    srr_df = pd.concat([srr_df, df[0]], axis=0)\n",
    "\n",
    "srr_df.reset_index(drop=True, inplace=True)\n",
    "\n",
    "srr_df.columns = ['sample_name']  \n",
    "len(srr_df)"
   ]
  },
  {
   "cell_type": "code",
   "execution_count": 4,
   "id": "9df26f23",
   "metadata": {},
   "outputs": [
    {
     "data": {
      "text/plain": [
       "array(['Rao2017cohesin', 'Fant2020tfiid',\n",
       "       'Steinparzer2019transcriptional'], dtype=object)"
      ]
     },
     "execution_count": 4,
     "metadata": {},
     "output_type": "execute_result"
    }
   ],
   "source": [
    "q = pd.read_csv(\"/Users/geba9152/summer_2024_3prime/queries/all-human-PRO-GRO-query.txt\", sep = \"\\t\")\n",
    "merge = q.merge(srr_df, on = 'sample_name')\n",
    "\n",
    "## All papers for metas for grant: \n",
    "merge['paper_name'].unique()\n",
    "\n",
    "# ['Rao2017cohesin', 'Fant2020tfiid',\n",
    "#        'Steinparzer2019transcriptional', 'Woo2018ted',\n",
    "#        'Liang2018targeting', 'Takahashi2020role',\n",
    "#        'Blumberg2021characterizing', 'Wang2019identification',\n",
    "#        'Vihervaara2017transcriptional', 'Judd2020unpublished',\n",
    "#        'Core2014analysis', 'Dukler2017nascent', 'Vihervaara2021stress',\n",
    "#        'Jaeger2020selective']\n",
    "\n"
   ]
  },
  {
   "cell_type": "markdown",
   "id": "870efc07",
   "metadata": {},
   "source": [
    "## Total as of now"
   ]
  },
  {
   "cell_type": "code",
   "execution_count": 10,
   "id": "8c7b7918",
   "metadata": {},
   "outputs": [
    {
     "name": "stdout",
     "output_type": "stream",
     "text": [
      "total samps so far: 153\n"
     ]
    }
   ],
   "source": [
    "# Ethan/Eric: 8 samps\n",
    "# CDK7i HCT: 4 samps\n",
    "# CDK7i/IFN/KMB: 11 samps\n",
    "# all good metas: 130 samps\n",
    "\n",
    "total = 130 + 8 + 4 + 11\n",
    "print(f'total samps so far: {total}')\n"
   ]
  },
  {
   "cell_type": "markdown",
   "id": "9c0642ef",
   "metadata": {},
   "source": [
    "## What we show in R21"
   ]
  },
  {
   "cell_type": "code",
   "execution_count": 14,
   "id": "71f46c2c",
   "metadata": {},
   "outputs": [
    {
     "name": "stdout",
     "output_type": "stream",
     "text": [
      "grant samps: 37\n"
     ]
    }
   ],
   "source": [
    "# metas: 33 samps\n",
    "# eric: 4 samps\n",
    "\n",
    "total = 33 + 4 \n",
    "print(f'grant samps: {total}')"
   ]
  },
  {
   "cell_type": "markdown",
   "id": "d832631c",
   "metadata": {},
   "source": [
    "# Convert svg to pdf/jpeg"
   ]
  },
  {
   "cell_type": "code",
   "execution_count": 2,
   "id": "4b3aba3a",
   "metadata": {},
   "outputs": [
    {
     "name": "stdout",
     "output_type": "stream",
     "text": [
      "Converted MED18-term-dist-plot.svg to PDF and JPEG.\n"
     ]
    },
    {
     "ename": "KeyboardInterrupt",
     "evalue": "",
     "output_type": "error",
     "traceback": [
      "\u001b[0;31m---------------------------------------------------------------------------\u001b[0m",
      "\u001b[0;31mKeyboardInterrupt\u001b[0m                         Traceback (most recent call last)",
      "Cell \u001b[0;32mIn[2], line 39\u001b[0m\n\u001b[1;32m     37\u001b[0m pdf_output_dir \u001b[38;5;241m=\u001b[39m \u001b[38;5;124m'\u001b[39m\u001b[38;5;124m/scratch/Users/geba9152/LIET-summer2024/visuals/term-distribution-plots/meta-dmso/4-celltypes-20kbup/pdf\u001b[39m\u001b[38;5;124m'\u001b[39m\n\u001b[1;32m     38\u001b[0m jpeg_output_dir \u001b[38;5;241m=\u001b[39m \u001b[38;5;124m'\u001b[39m\u001b[38;5;124m/scratch/Users/geba9152/LIET-summer2024/visuals/term-distribution-plots/meta-dmso/4-celltypes-20kbup/jpeg\u001b[39m\u001b[38;5;124m'\u001b[39m\n\u001b[0;32m---> 39\u001b[0m convert_svgs(input_dir, pdf_output_dir, jpeg_output_dir)\n",
      "Cell \u001b[0;32mIn[2], line 33\u001b[0m, in \u001b[0;36mconvert_svgs\u001b[0;34m(input_dir, pdf_output_dir, jpeg_output_dir)\u001b[0m\n\u001b[1;32m     31\u001b[0m \u001b[38;5;66;03m# Convert and save files\u001b[39;00m\n\u001b[1;32m     32\u001b[0m svg_to_pdf(input_svg_path, output_pdf_path)\n\u001b[0;32m---> 33\u001b[0m svg_to_jpeg(input_svg_path, output_jpeg_path)\n\u001b[1;32m     34\u001b[0m \u001b[38;5;28mprint\u001b[39m(\u001b[38;5;124mf\u001b[39m\u001b[38;5;124m\"\u001b[39m\u001b[38;5;124mConverted \u001b[39m\u001b[38;5;132;01m{\u001b[39;00mfilename\u001b[38;5;132;01m}\u001b[39;00m\u001b[38;5;124m to PDF and JPEG.\u001b[39m\u001b[38;5;124m\"\u001b[39m)\n",
      "Cell \u001b[0;32mIn[2], line 8\u001b[0m, in \u001b[0;36msvg_to_jpeg\u001b[0;34m(input_svg_path, output_jpeg_path)\u001b[0m\n\u001b[1;32m      5\u001b[0m \u001b[38;5;28;01mdef\u001b[39;00m \u001b[38;5;21msvg_to_jpeg\u001b[39m(input_svg_path, output_jpeg_path):\n\u001b[1;32m      6\u001b[0m     \u001b[38;5;66;03m# Convert the SVG file to a temporary PNG file\u001b[39;00m\n\u001b[1;32m      7\u001b[0m     temp_png_path \u001b[38;5;241m=\u001b[39m \u001b[38;5;124m'\u001b[39m\u001b[38;5;124mtemp.png\u001b[39m\u001b[38;5;124m'\u001b[39m\n\u001b[0;32m----> 8\u001b[0m     cairosvg\u001b[38;5;241m.\u001b[39msvg2png(url\u001b[38;5;241m=\u001b[39minput_svg_path, write_to\u001b[38;5;241m=\u001b[39mtemp_png_path)\n\u001b[1;32m     10\u001b[0m     \u001b[38;5;66;03m# Convert PNG to JPEG\u001b[39;00m\n\u001b[1;32m     11\u001b[0m     png_image \u001b[38;5;241m=\u001b[39m Image\u001b[38;5;241m.\u001b[39mopen(temp_png_path)\n",
      "File \u001b[0;32m~/miniconda3/envs/jupnbk-general/lib/python3.11/site-packages/cairosvg/__init__.py:55\u001b[0m, in \u001b[0;36msvg2png\u001b[0;34m(bytestring, file_obj, url, dpi, parent_width, parent_height, scale, unsafe, background_color, negate_colors, invert_images, write_to, output_width, output_height)\u001b[0m\n\u001b[1;32m     51\u001b[0m \u001b[38;5;28;01mdef\u001b[39;00m \u001b[38;5;21msvg2png\u001b[39m(bytestring\u001b[38;5;241m=\u001b[39m\u001b[38;5;28;01mNone\u001b[39;00m, \u001b[38;5;241m*\u001b[39m, file_obj\u001b[38;5;241m=\u001b[39m\u001b[38;5;28;01mNone\u001b[39;00m, url\u001b[38;5;241m=\u001b[39m\u001b[38;5;28;01mNone\u001b[39;00m, dpi\u001b[38;5;241m=\u001b[39m\u001b[38;5;241m96\u001b[39m,\n\u001b[1;32m     52\u001b[0m             parent_width\u001b[38;5;241m=\u001b[39m\u001b[38;5;28;01mNone\u001b[39;00m, parent_height\u001b[38;5;241m=\u001b[39m\u001b[38;5;28;01mNone\u001b[39;00m, scale\u001b[38;5;241m=\u001b[39m\u001b[38;5;241m1\u001b[39m, unsafe\u001b[38;5;241m=\u001b[39m\u001b[38;5;28;01mFalse\u001b[39;00m,\n\u001b[1;32m     53\u001b[0m             background_color\u001b[38;5;241m=\u001b[39m\u001b[38;5;28;01mNone\u001b[39;00m, negate_colors\u001b[38;5;241m=\u001b[39m\u001b[38;5;28;01mFalse\u001b[39;00m, invert_images\u001b[38;5;241m=\u001b[39m\u001b[38;5;28;01mFalse\u001b[39;00m,\n\u001b[1;32m     54\u001b[0m             write_to\u001b[38;5;241m=\u001b[39m\u001b[38;5;28;01mNone\u001b[39;00m, output_width\u001b[38;5;241m=\u001b[39m\u001b[38;5;28;01mNone\u001b[39;00m, output_height\u001b[38;5;241m=\u001b[39m\u001b[38;5;28;01mNone\u001b[39;00m):\n\u001b[0;32m---> 55\u001b[0m     \u001b[38;5;28;01mreturn\u001b[39;00m surface\u001b[38;5;241m.\u001b[39mPNGSurface\u001b[38;5;241m.\u001b[39mconvert(\n\u001b[1;32m     56\u001b[0m         bytestring\u001b[38;5;241m=\u001b[39mbytestring, file_obj\u001b[38;5;241m=\u001b[39mfile_obj, url\u001b[38;5;241m=\u001b[39murl, dpi\u001b[38;5;241m=\u001b[39mdpi,\n\u001b[1;32m     57\u001b[0m         parent_width\u001b[38;5;241m=\u001b[39mparent_width, parent_height\u001b[38;5;241m=\u001b[39mparent_height, scale\u001b[38;5;241m=\u001b[39mscale,\n\u001b[1;32m     58\u001b[0m         background_color\u001b[38;5;241m=\u001b[39mbackground_color, negate_colors\u001b[38;5;241m=\u001b[39mnegate_colors,\n\u001b[1;32m     59\u001b[0m         invert_images\u001b[38;5;241m=\u001b[39minvert_images, unsafe\u001b[38;5;241m=\u001b[39munsafe, write_to\u001b[38;5;241m=\u001b[39mwrite_to,\n\u001b[1;32m     60\u001b[0m         output_width\u001b[38;5;241m=\u001b[39moutput_width, output_height\u001b[38;5;241m=\u001b[39moutput_height)\n",
      "File \u001b[0;32m~/miniconda3/envs/jupnbk-general/lib/python3.11/site-packages/cairosvg/surface.py:133\u001b[0m, in \u001b[0;36mSurface.convert\u001b[0;34m(cls, bytestring, file_obj, url, dpi, parent_width, parent_height, scale, unsafe, background_color, negate_colors, invert_images, write_to, output_width, output_height, **kwargs)\u001b[0m\n\u001b[1;32m    129\u001b[0m tree \u001b[38;5;241m=\u001b[39m Tree(\n\u001b[1;32m    130\u001b[0m     bytestring\u001b[38;5;241m=\u001b[39mbytestring, file_obj\u001b[38;5;241m=\u001b[39mfile_obj, url\u001b[38;5;241m=\u001b[39murl, unsafe\u001b[38;5;241m=\u001b[39munsafe,\n\u001b[1;32m    131\u001b[0m     \u001b[38;5;241m*\u001b[39m\u001b[38;5;241m*\u001b[39mkwargs)\n\u001b[1;32m    132\u001b[0m output \u001b[38;5;241m=\u001b[39m write_to \u001b[38;5;129;01mor\u001b[39;00m io\u001b[38;5;241m.\u001b[39mBytesIO()\n\u001b[0;32m--> 133\u001b[0m instance \u001b[38;5;241m=\u001b[39m \u001b[38;5;28mcls\u001b[39m(\n\u001b[1;32m    134\u001b[0m     tree, output, dpi, \u001b[38;5;28;01mNone\u001b[39;00m, parent_width, parent_height, scale,\n\u001b[1;32m    135\u001b[0m     output_width, output_height, background_color,\n\u001b[1;32m    136\u001b[0m     map_rgba\u001b[38;5;241m=\u001b[39mnegate_color \u001b[38;5;28;01mif\u001b[39;00m negate_colors \u001b[38;5;28;01melse\u001b[39;00m \u001b[38;5;28;01mNone\u001b[39;00m,\n\u001b[1;32m    137\u001b[0m     map_image\u001b[38;5;241m=\u001b[39minvert_image \u001b[38;5;28;01mif\u001b[39;00m invert_images \u001b[38;5;28;01melse\u001b[39;00m \u001b[38;5;28;01mNone\u001b[39;00m)\n\u001b[1;32m    138\u001b[0m instance\u001b[38;5;241m.\u001b[39mfinish()\n\u001b[1;32m    139\u001b[0m \u001b[38;5;28;01mif\u001b[39;00m write_to \u001b[38;5;129;01mis\u001b[39;00m \u001b[38;5;28;01mNone\u001b[39;00m:\n",
      "File \u001b[0;32m~/miniconda3/envs/jupnbk-general/lib/python3.11/site-packages/cairosvg/surface.py:225\u001b[0m, in \u001b[0;36mSurface.__init__\u001b[0;34m(self, tree, output, dpi, parent_surface, parent_width, parent_height, scale, output_width, output_height, background_color, map_rgba, map_image)\u001b[0m\n\u001b[1;32m    223\u001b[0m \u001b[38;5;28mself\u001b[39m\u001b[38;5;241m.\u001b[39mmap_rgba \u001b[38;5;241m=\u001b[39m map_rgba\n\u001b[1;32m    224\u001b[0m \u001b[38;5;28mself\u001b[39m\u001b[38;5;241m.\u001b[39mmap_image \u001b[38;5;241m=\u001b[39m map_image\n\u001b[0;32m--> 225\u001b[0m \u001b[38;5;28mself\u001b[39m\u001b[38;5;241m.\u001b[39mdraw(tree)\n",
      "File \u001b[0;32m~/miniconda3/envs/jupnbk-general/lib/python3.11/site-packages/cairosvg/surface.py:472\u001b[0m, in \u001b[0;36mSurface.draw\u001b[0;34m(self, node)\u001b[0m\n\u001b[1;32m    470\u001b[0m \u001b[38;5;28;01mif\u001b[39;00m display \u001b[38;5;129;01mand\u001b[39;00m node\u001b[38;5;241m.\u001b[39mtag \u001b[38;5;129;01mnot\u001b[39;00m \u001b[38;5;129;01min\u001b[39;00m INVISIBLE_TAGS:\n\u001b[1;32m    471\u001b[0m     \u001b[38;5;28;01mfor\u001b[39;00m child \u001b[38;5;129;01min\u001b[39;00m node\u001b[38;5;241m.\u001b[39mchildren:\n\u001b[0;32m--> 472\u001b[0m         \u001b[38;5;28mself\u001b[39m\u001b[38;5;241m.\u001b[39mdraw(child)\n\u001b[1;32m    474\u001b[0m \u001b[38;5;66;03m# Apply filter, mask and opacity\u001b[39;00m\n\u001b[1;32m    475\u001b[0m \u001b[38;5;28;01mif\u001b[39;00m filter_ \u001b[38;5;129;01mor\u001b[39;00m mask \u001b[38;5;129;01mor\u001b[39;00m (opacity \u001b[38;5;241m<\u001b[39m \u001b[38;5;241m1\u001b[39m \u001b[38;5;129;01mand\u001b[39;00m node\u001b[38;5;241m.\u001b[39mchildren):\n",
      "File \u001b[0;32m~/miniconda3/envs/jupnbk-general/lib/python3.11/site-packages/cairosvg/surface.py:472\u001b[0m, in \u001b[0;36mSurface.draw\u001b[0;34m(self, node)\u001b[0m\n\u001b[1;32m    470\u001b[0m \u001b[38;5;28;01mif\u001b[39;00m display \u001b[38;5;129;01mand\u001b[39;00m node\u001b[38;5;241m.\u001b[39mtag \u001b[38;5;129;01mnot\u001b[39;00m \u001b[38;5;129;01min\u001b[39;00m INVISIBLE_TAGS:\n\u001b[1;32m    471\u001b[0m     \u001b[38;5;28;01mfor\u001b[39;00m child \u001b[38;5;129;01min\u001b[39;00m node\u001b[38;5;241m.\u001b[39mchildren:\n\u001b[0;32m--> 472\u001b[0m         \u001b[38;5;28mself\u001b[39m\u001b[38;5;241m.\u001b[39mdraw(child)\n\u001b[1;32m    474\u001b[0m \u001b[38;5;66;03m# Apply filter, mask and opacity\u001b[39;00m\n\u001b[1;32m    475\u001b[0m \u001b[38;5;28;01mif\u001b[39;00m filter_ \u001b[38;5;129;01mor\u001b[39;00m mask \u001b[38;5;129;01mor\u001b[39;00m (opacity \u001b[38;5;241m<\u001b[39m \u001b[38;5;241m1\u001b[39m \u001b[38;5;129;01mand\u001b[39;00m node\u001b[38;5;241m.\u001b[39mchildren):\n",
      "    \u001b[0;31m[... skipping similar frames: Surface.draw at line 472 (2 times)]\u001b[0m\n",
      "File \u001b[0;32m~/miniconda3/envs/jupnbk-general/lib/python3.11/site-packages/cairosvg/surface.py:472\u001b[0m, in \u001b[0;36mSurface.draw\u001b[0;34m(self, node)\u001b[0m\n\u001b[1;32m    470\u001b[0m \u001b[38;5;28;01mif\u001b[39;00m display \u001b[38;5;129;01mand\u001b[39;00m node\u001b[38;5;241m.\u001b[39mtag \u001b[38;5;129;01mnot\u001b[39;00m \u001b[38;5;129;01min\u001b[39;00m INVISIBLE_TAGS:\n\u001b[1;32m    471\u001b[0m     \u001b[38;5;28;01mfor\u001b[39;00m child \u001b[38;5;129;01min\u001b[39;00m node\u001b[38;5;241m.\u001b[39mchildren:\n\u001b[0;32m--> 472\u001b[0m         \u001b[38;5;28mself\u001b[39m\u001b[38;5;241m.\u001b[39mdraw(child)\n\u001b[1;32m    474\u001b[0m \u001b[38;5;66;03m# Apply filter, mask and opacity\u001b[39;00m\n\u001b[1;32m    475\u001b[0m \u001b[38;5;28;01mif\u001b[39;00m filter_ \u001b[38;5;129;01mor\u001b[39;00m mask \u001b[38;5;129;01mor\u001b[39;00m (opacity \u001b[38;5;241m<\u001b[39m \u001b[38;5;241m1\u001b[39m \u001b[38;5;129;01mand\u001b[39;00m node\u001b[38;5;241m.\u001b[39mchildren):\n",
      "File \u001b[0;32m~/miniconda3/envs/jupnbk-general/lib/python3.11/site-packages/cairosvg/surface.py:404\u001b[0m, in \u001b[0;36mSurface.draw\u001b[0;34m(self, node)\u001b[0m\n\u001b[1;32m    402\u001b[0m \u001b[38;5;28;01mif\u001b[39;00m node\u001b[38;5;241m.\u001b[39mtag \u001b[38;5;129;01min\u001b[39;00m TAGS:\n\u001b[1;32m    403\u001b[0m     \u001b[38;5;28;01mtry\u001b[39;00m:\n\u001b[0;32m--> 404\u001b[0m         TAGS[node\u001b[38;5;241m.\u001b[39mtag](\u001b[38;5;28mself\u001b[39m, node)\n\u001b[1;32m    405\u001b[0m     \u001b[38;5;28;01mexcept\u001b[39;00m PointError:\n\u001b[1;32m    406\u001b[0m         \u001b[38;5;66;03m# Error in point parsing, do nothing\u001b[39;00m\n\u001b[1;32m    407\u001b[0m         \u001b[38;5;28;01mpass\u001b[39;00m\n",
      "File \u001b[0;32m~/miniconda3/envs/jupnbk-general/lib/python3.11/site-packages/cairosvg/defs.py:365\u001b[0m, in \u001b[0;36muse\u001b[0;34m(surface, node)\u001b[0m\n\u001b[1;32m    362\u001b[0m     \u001b[38;5;28;01mif\u001b[39;00m \u001b[38;5;124m'\u001b[39m\u001b[38;5;124mwidth\u001b[39m\u001b[38;5;124m'\u001b[39m \u001b[38;5;129;01min\u001b[39;00m node \u001b[38;5;129;01mand\u001b[39;00m \u001b[38;5;124m'\u001b[39m\u001b[38;5;124mheight\u001b[39m\u001b[38;5;124m'\u001b[39m \u001b[38;5;129;01min\u001b[39;00m node:\n\u001b[1;32m    363\u001b[0m         tree[\u001b[38;5;124m'\u001b[39m\u001b[38;5;124mwidth\u001b[39m\u001b[38;5;124m'\u001b[39m], tree[\u001b[38;5;124m'\u001b[39m\u001b[38;5;124mheight\u001b[39m\u001b[38;5;124m'\u001b[39m] \u001b[38;5;241m=\u001b[39m node[\u001b[38;5;124m'\u001b[39m\u001b[38;5;124mwidth\u001b[39m\u001b[38;5;124m'\u001b[39m], node[\u001b[38;5;124m'\u001b[39m\u001b[38;5;124mheight\u001b[39m\u001b[38;5;124m'\u001b[39m]\n\u001b[0;32m--> 365\u001b[0m surface\u001b[38;5;241m.\u001b[39mdraw(tree)\n\u001b[1;32m    366\u001b[0m node\u001b[38;5;241m.\u001b[39mget(\u001b[38;5;124m'\u001b[39m\u001b[38;5;124mfill\u001b[39m\u001b[38;5;124m'\u001b[39m, \u001b[38;5;28;01mNone\u001b[39;00m)\n\u001b[1;32m    367\u001b[0m node\u001b[38;5;241m.\u001b[39mget(\u001b[38;5;124m'\u001b[39m\u001b[38;5;124mstroke\u001b[39m\u001b[38;5;124m'\u001b[39m, \u001b[38;5;28;01mNone\u001b[39;00m)\n",
      "File \u001b[0;32m~/miniconda3/envs/jupnbk-general/lib/python3.11/site-packages/cairosvg/surface.py:404\u001b[0m, in \u001b[0;36mSurface.draw\u001b[0;34m(self, node)\u001b[0m\n\u001b[1;32m    402\u001b[0m \u001b[38;5;28;01mif\u001b[39;00m node\u001b[38;5;241m.\u001b[39mtag \u001b[38;5;129;01min\u001b[39;00m TAGS:\n\u001b[1;32m    403\u001b[0m     \u001b[38;5;28;01mtry\u001b[39;00m:\n\u001b[0;32m--> 404\u001b[0m         TAGS[node\u001b[38;5;241m.\u001b[39mtag](\u001b[38;5;28mself\u001b[39m, node)\n\u001b[1;32m    405\u001b[0m     \u001b[38;5;28;01mexcept\u001b[39;00m PointError:\n\u001b[1;32m    406\u001b[0m         \u001b[38;5;66;03m# Error in point parsing, do nothing\u001b[39;00m\n\u001b[1;32m    407\u001b[0m         \u001b[38;5;28;01mpass\u001b[39;00m\n",
      "File \u001b[0;32m~/miniconda3/envs/jupnbk-general/lib/python3.11/site-packages/cairosvg/path.py:144\u001b[0m, in \u001b[0;36mpath\u001b[0;34m(surface, node)\u001b[0m\n\u001b[1;32m    142\u001b[0m string \u001b[38;5;241m=\u001b[39m string\u001b[38;5;241m.\u001b[39mstrip()\n\u001b[1;32m    143\u001b[0m \u001b[38;5;28;01mif\u001b[39;00m string\u001b[38;5;241m.\u001b[39msplit(\u001b[38;5;124m'\u001b[39m\u001b[38;5;124m \u001b[39m\u001b[38;5;124m'\u001b[39m, \u001b[38;5;241m1\u001b[39m)[\u001b[38;5;241m0\u001b[39m] \u001b[38;5;129;01min\u001b[39;00m PATH_LETTERS:\n\u001b[0;32m--> 144\u001b[0m     letter, string \u001b[38;5;241m=\u001b[39m (string \u001b[38;5;241m+\u001b[39m \u001b[38;5;124m'\u001b[39m\u001b[38;5;124m \u001b[39m\u001b[38;5;124m'\u001b[39m)\u001b[38;5;241m.\u001b[39msplit(\u001b[38;5;124m'\u001b[39m\u001b[38;5;124m \u001b[39m\u001b[38;5;124m'\u001b[39m, \u001b[38;5;241m1\u001b[39m)\n\u001b[1;32m    145\u001b[0m     \u001b[38;5;28;01mif\u001b[39;00m last_letter \u001b[38;5;129;01min\u001b[39;00m (\u001b[38;5;28;01mNone\u001b[39;00m, \u001b[38;5;124m'\u001b[39m\u001b[38;5;124mz\u001b[39m\u001b[38;5;124m'\u001b[39m, \u001b[38;5;124m'\u001b[39m\u001b[38;5;124mZ\u001b[39m\u001b[38;5;124m'\u001b[39m) \u001b[38;5;129;01mand\u001b[39;00m letter \u001b[38;5;129;01mnot\u001b[39;00m \u001b[38;5;129;01min\u001b[39;00m \u001b[38;5;124m'\u001b[39m\u001b[38;5;124mmM\u001b[39m\u001b[38;5;124m'\u001b[39m:\n\u001b[1;32m    146\u001b[0m         node\u001b[38;5;241m.\u001b[39mvertices\u001b[38;5;241m.\u001b[39mappend(current_point)\n",
      "\u001b[0;31mKeyboardInterrupt\u001b[0m: "
     ]
    }
   ],
   "source": [
    "def svg_to_pdf(input_svg_path, output_pdf_path):\n",
    "    # Convert the SVG file to a PDF file\n",
    "    cairosvg.svg2pdf(url=input_svg_path, write_to=output_pdf_path)\n",
    "\n",
    "def svg_to_jpeg(input_svg_path, output_jpeg_path):\n",
    "    # Convert the SVG file to a temporary PNG file\n",
    "    temp_png_path = 'temp.png'\n",
    "    cairosvg.svg2png(url=input_svg_path, write_to=temp_png_path)\n",
    "    \n",
    "    # Convert PNG to JPEG\n",
    "    png_image = Image.open(temp_png_path)\n",
    "    png_image = png_image.convert(\"RGB\")\n",
    "    png_image.save(output_jpeg_path, \"JPEG\")\n",
    "    os.remove(temp_png_path)  # Remove the temporary PNG file\n",
    "\n",
    "def convert_svgs(input_dir, pdf_output_dir, jpeg_output_dir):\n",
    "    # Create output directories if they don't exist\n",
    "    os.makedirs(pdf_output_dir, exist_ok=True)\n",
    "    os.makedirs(jpeg_output_dir, exist_ok=True)\n",
    "    \n",
    "    # Loop through all files in the input directory\n",
    "    for filename in os.listdir(input_dir):\n",
    "        if filename.endswith('.svg'):\n",
    "            input_svg_path = os.path.join(input_dir, filename)\n",
    "            base_name = os.path.splitext(filename)[0]\n",
    "            \n",
    "            # Define output paths for PDF and JPEG\n",
    "            output_pdf_path = os.path.join(pdf_output_dir, base_name + '.pdf')\n",
    "            output_jpeg_path = os.path.join(jpeg_output_dir, base_name + '.jpeg')\n",
    "            \n",
    "            # Convert and save files\n",
    "            svg_to_pdf(input_svg_path, output_pdf_path)\n",
    "            svg_to_jpeg(input_svg_path, output_jpeg_path)\n",
    "            print(f\"Converted {filename} to PDF and JPEG.\")\n",
    "\n",
    "input_dir = '/scratch/Users/geba9152/LIET-summer2024/visuals/term-distribution-plots/meta-dmso/4-celltypes-20kbup/svg'\n",
    "pdf_output_dir = '/scratch/Users/geba9152/LIET-summer2024/visuals/term-distribution-plots/meta-dmso/4-celltypes-20kbup/pdf'\n",
    "jpeg_output_dir = '/scratch/Users/geba9152/LIET-summer2024/visuals/term-distribution-plots/meta-dmso/4-celltypes-20kbup/jpeg'\n",
    "convert_svgs(input_dir, pdf_output_dir, jpeg_output_dir)\n"
   ]
  }
 ],
 "metadata": {
  "kernelspec": {
   "display_name": "jupnbk-general",
   "language": "python",
   "name": "jupnbk-general"
  },
  "language_info": {
   "codemirror_mode": {
    "name": "ipython",
    "version": 3
   },
   "file_extension": ".py",
   "mimetype": "text/x-python",
   "name": "python",
   "nbconvert_exporter": "python",
   "pygments_lexer": "ipython3",
   "version": "3.11.5"
  },
  "toc": {
   "base_numbering": 1,
   "nav_menu": {},
   "number_sections": true,
   "sideBar": true,
   "skip_h1_title": false,
   "title_cell": "Table of Contents",
   "title_sidebar": "Contents",
   "toc_cell": false,
   "toc_position": {},
   "toc_section_display": true,
   "toc_window_display": false
  }
 },
 "nbformat": 4,
 "nbformat_minor": 5
}
